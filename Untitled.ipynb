{
 "cells": [
  {
   "cell_type": "code",
   "execution_count": null,
   "id": "38b7d983-8ac2-4ad1-a553-ba942a84da62",
   "metadata": {},
   "outputs": [],
   "source": [
    "import pandas as pd\n",
    "import praw"
   ]
  },
  {
   "cell_type": "code",
   "execution_count": null,
   "id": "91c93b09-62f2-40e8-8523-b5aab7d0a304",
   "metadata": {},
   "outputs": [
    {
     "name": "stderr",
     "output_type": "stream",
     "text": [
      "Version 7.7.0 of praw is outdated. Version 7.7.1 was released Tuesday July 11, 2023.\n"
     ]
    }
   ],
   "source": [
    "reddit = praw.Reddit(\n",
    "    client_id=\"ysypAcjoB0TZj70SWqgxWg\",\n",
    "    client_secret=\"FiSMvGjfFGTE_6zRXOIhPM7GTd3uAg\",\n",
    "    user_agent=\"script:com.example.ml_moderation:v1 (by /u/MrNoodleReddit)\",\n",
    ")"
   ]
  },
  {
   "cell_type": "code",
   "execution_count": null,
   "id": "1cf1c3fb-f941-40ef-b5ab-2ebe05e4d4c9",
   "metadata": {},
   "outputs": [],
   "source": [
    "submissions_list = [submission.selftext for submission in reddit.subreddit(\"MachineLearning\").new(limit=100)]\n",
    "    "
   ]
  },
  {
   "cell_type": "code",
   "execution_count": null,
   "id": "74e514ee-b9e0-4bf3-aa91-fdf487faf476",
   "metadata": {},
   "outputs": [],
   "source": [
    "data_dict = {'post':submissions_list}"
   ]
  },
  {
   "cell_type": "code",
   "execution_count": null,
   "id": "58dcc506-5a6b-41ed-9d48-f3ae1181e727",
   "metadata": {},
   "outputs": [],
   "source": [
    "post_df = pd.DataFrame(data_dict)"
   ]
  },
  {
   "cell_type": "code",
   "execution_count": null,
   "id": "2a9ebfda-162c-42ab-89e7-91fb300cebe9",
   "metadata": {},
   "outputs": [],
   "source": [
    "post_df.to_csv('subreddit_posts.csv')"
   ]
  },
  {
   "cell_type": "code",
   "execution_count": null,
   "id": "9b991afc-a8b2-4380-80cf-0b2c82055182",
   "metadata": {},
   "outputs": [
    {
     "ename": "TypeError",
     "evalue": "sequence item 0: expected str instance, Rule found",
     "output_type": "error",
     "traceback": [
      "\u001b[0;31m---------------------------------------------------------------------------\u001b[0m",
      "\u001b[0;31mTypeError\u001b[0m                                 Traceback (most recent call last)",
      "Cell \u001b[0;32mIn[17], line 1\u001b[0m\n\u001b[0;32m----> 1\u001b[0m subreddit_rules \u001b[38;5;241m=\u001b[39m \u001b[38;5;124;43m'\u001b[39;49m\u001b[38;5;124;43m \u001b[39;49m\u001b[38;5;124;43m'\u001b[39;49m\u001b[38;5;241;43m.\u001b[39;49m\u001b[43mjoin\u001b[49m\u001b[43m(\u001b[49m\u001b[38;5;28;43mlist\u001b[39;49m\u001b[43m(\u001b[49m\u001b[43mreddit\u001b[49m\u001b[38;5;241;43m.\u001b[39;49m\u001b[43msubreddit\u001b[49m\u001b[43m(\u001b[49m\u001b[38;5;124;43m\"\u001b[39;49m\u001b[38;5;124;43mMachineLearning\u001b[39;49m\u001b[38;5;124;43m\"\u001b[39;49m\u001b[43m)\u001b[49m\u001b[38;5;241;43m.\u001b[39;49m\u001b[43mrules\u001b[49m\u001b[43m)\u001b[49m\u001b[43m)\u001b[49m\n\u001b[1;32m      2\u001b[0m \u001b[38;5;66;03m# for rule in reddit.subreddit(\"MachineLearning\").rules:\u001b[39;00m\n\u001b[1;32m      3\u001b[0m \u001b[38;5;66;03m#     subreddit_rules.append(rule)\u001b[39;00m\n",
      "\u001b[0;31mTypeError\u001b[0m: sequence item 0: expected str instance, Rule found"
     ]
    }
   ],
   "source": [
    "subreddit_rules = ' '.join(list(reddit.subreddit(\"MachineLearning\").rules.rule))\n",
    "# for rule in reddit.subreddit(\"MachineLearning\").rules:\n",
    "#     subreddit_rules.append(rule)\n",
    "    "
   ]
  },
  {
   "cell_type": "code",
   "execution_count": null,
   "id": "d1a2c52c-288c-4288-9bc9-b77de3efd151",
   "metadata": {},
   "outputs": [],
   "source": [
    "num_tokens_for_100_posts = post_df.apply(lambda row: len(row['post']), axis=1).sum() / 5 / 1000 * 0.0015 * 2 # about 20000 tokens for 100 subreddit posts"
   ]
  },
  {
   "cell_type": "code",
   "execution_count": null,
   "id": "4290c0f0-6dc5-4ad9-8edd-628d634ad948",
   "metadata": {},
   "outputs": [
    {
     "data": {
      "text/plain": [
       "0.05593739999999999"
      ]
     },
     "execution_count": 42,
     "metadata": {},
     "output_type": "execute_result"
    }
   ],
   "source": [
    "num_tokens_for_100_posts"
   ]
  },
  {
   "cell_type": "code",
   "execution_count": null,
   "id": "77c6a906-0c95-4eac-9aa2-591be2cf7c62",
   "metadata": {},
   "outputs": [
    {
     "data": {
      "text/plain": [
       "count     100.000000\n",
       "mean      186.458000\n",
       "std       186.052545\n",
       "min         0.000000\n",
       "25%        83.400000\n",
       "50%       150.800000\n",
       "75%       219.850000\n",
       "max      1278.400000\n",
       "dtype: float64"
      ]
     },
     "execution_count": 38,
     "metadata": {},
     "output_type": "execute_result"
    }
   ],
   "source": [
    "post_df.apply(lambda row: len(row['post']) / 5, axis=1).describe() # on average 186 tokens per post"
   ]
  },
  {
   "cell_type": "code",
   "execution_count": null,
   "id": "0af80a78-59ef-467f-85e0-5eb4f4048ad5",
   "metadata": {},
   "outputs": [],
   "source": []
  }
 ],
 "metadata": {
  "environment": {
   "kernel": "llm_kernel",
   "name": "pytorch-gpu.1-13.m109",
   "type": "gcloud",
   "uri": "gcr.io/deeplearning-platform-release/pytorch-gpu.1-13:m109"
  },
  "kernelspec": {
   "display_name": "llm_kernel",
   "language": "python",
   "name": "llm_kernel"
  },
  "language_info": {
   "codemirror_mode": {
    "name": "ipython",
    "version": 3
   },
   "file_extension": ".py",
   "mimetype": "text/x-python",
   "name": "python",
   "nbconvert_exporter": "python",
   "pygments_lexer": "ipython3",
   "version": "3.11.4"
  }
 },
 "nbformat": 4,
 "nbformat_minor": 5
}
